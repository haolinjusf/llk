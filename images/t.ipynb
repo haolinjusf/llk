{
 "cells": [
  {
   "cell_type": "code",
   "execution_count": 21,
   "metadata": {},
   "outputs": [
    {
     "name": "stdout",
     "output_type": "stream",
     "text": [
      ".jpg <class 'str'>,  True\n",
      ".jpg <class 'str'>,  True\n",
      ".jpg <class 'str'>,  True\n",
      ".jpg <class 'str'>,  True\n",
      ".jpg <class 'str'>,  True\n",
      ".ipynb <class 'str'>,  False\n",
      ".jpg <class 'str'>,  True\n",
      ".jpg <class 'str'>,  True\n",
      ".jpg <class 'str'>,  True\n",
      ".jpg <class 'str'>,  True\n",
      ".jpg <class 'str'>,  True\n",
      ".jpg <class 'str'>,  True\n",
      ".jpg <class 'str'>,  True\n",
      ".jpg <class 'str'>,  True\n",
      ".jpg <class 'str'>,  True\n",
      ".jpg <class 'str'>,  True\n",
      ".jpg <class 'str'>,  True\n",
      ".jpg <class 'str'>,  True\n",
      ".jpg <class 'str'>,  True\n",
      ".jpg <class 'str'>,  True\n",
      ".jpg <class 'str'>,  True\n",
      ".jpg <class 'str'>,  True\n",
      ".jpg <class 'str'>,  True\n",
      ".jpg <class 'str'>,  True\n",
      ".jpg <class 'str'>,  True\n",
      ".jpg <class 'str'>,  True\n"
     ]
    }
   ],
   "source": [
    "import os\n",
    "\n",
    "for i in os.listdir('.'):\n",
    "    ext = os.path.splitext(i)[-1]\n",
    "    print(ext, type(ext), end=',  ')\n",
    "    print(ext in ('.jpg', '.png'))"
   ]
  },
  {
   "cell_type": "code",
   "execution_count": 24,
   "metadata": {},
   "outputs": [],
   "source": [
    "x = 1\n",
    "\n",
    "for i in os.listdir('.'):\n",
    "    if os.path.splitext(i)[-1] in ['.jpg', '.png']:\n",
    "        im = Image.open(i) \t# load image with PIL library\n",
    "        w, h = im.size\t\t# get dimensions\n",
    "        im.thumbnail((w, w))\n",
    "        im.save(i)\t\t# save with new dimensions\n",
    "        x += 1"
   ]
  },
  {
   "cell_type": "code",
   "execution_count": 23,
   "metadata": {},
   "outputs": [],
   "source": [
    "from PIL import Image\n",
    "\n"
   ]
  }
 ],
 "metadata": {
  "kernelspec": {
   "display_name": "game",
   "language": "python",
   "name": "python3"
  },
  "language_info": {
   "codemirror_mode": {
    "name": "ipython",
    "version": 3
   },
   "file_extension": ".py",
   "mimetype": "text/x-python",
   "name": "python",
   "nbconvert_exporter": "python",
   "pygments_lexer": "ipython3",
   "version": "3.10.11"
  },
  "orig_nbformat": 4
 },
 "nbformat": 4,
 "nbformat_minor": 2
}
